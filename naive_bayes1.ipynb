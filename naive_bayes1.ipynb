{
 "cells": [
  {
   "cell_type": "code",
   "execution_count": 12,
   "metadata": {},
   "outputs": [],
   "source": [
    "import numpy as np\n",
    "import pandas as pd"
   ]
  },
  {
   "cell_type": "code",
   "execution_count": 18,
   "metadata": {},
   "outputs": [],
   "source": [
    "class naive_bayes:\n",
    "    def __init__ (self, data):\n",
    "        self.prob_males = data['Gender'][data['Gender']=='Male'].count()/data['Gender'].count()\n",
    "        self.prob_females = data['Gender'][data['Gender']=='Female'].count()/data['Gender'].count()\n",
    "        \n",
    "        self.means = data.groupby('Gender').mean()\n",
    "        #print(means)\n",
    "        self.height_mean_male = self.means['Height'][self.means.index == 'Male'].values[0]\n",
    "        self.height_mean_female = self.means['Height'][self.means.index=='Female'].values[0]\n",
    "        self.weight_mean_male = self.means['Weight'][self.means.index=='Male'].values[0]\n",
    "        self.weight_mean_female = self.means['Weight'][self.means.index=='Female'].values[0]\n",
    "        self.footsize_mean_male = self.means['FootSize'][self.means.index=='Male'].values[0]\n",
    "        self.footsize_mean_female = self.means['FootSize'][self.means.index=='Female'].values[0]\n",
    "        \n",
    "        self.var = data.groupby('Gender').var()\n",
    "        self.height_var_male = self.var['Height'][self.var.index=='Male'].values[0]\n",
    "        self.height_var_female = self.var['Height'][self.var.index=='Female'].values[0]\n",
    "        self.weight_var_male = self.var['Weight'][self.var.index=='Male'].values[0]\n",
    "        self.weight_var_female = self.var['Weight'][self.var.index=='Female'].values[0]\n",
    "        self.footsize_var_male = self.var['FootSize'][self.var.index=='Male'].values[0]\n",
    "        self.footsize_var_female = self.var['FootSize'][self.var.index=='Female'].values[0]\n",
    "        \n",
    "    def y_x(self, x, var, mean):\n",
    "        return (1/np.sqrt(2*np.pi*var))*np.exp(-(x-mean)**2/(2*var))\n",
    "    \n",
    "    def predict(self, data):\n",
    "        h_m = self.y_x(data['Height'][0], self.height_var_male, self.height_mean_male)\n",
    "        w_m = self.y_x(data['Weight'][0], self.weight_var_male, self.weight_mean_male)\n",
    "        f_m = self.y_x(data['FootSize'][0], self.footsize_var_male, self.footsize_mean_male)\n",
    "        h_f = self.y_x(data['Height'][0], self.height_var_female, self.height_mean_female)\n",
    "        w_f = self.y_x(data['Weight'][0], self.weight_var_female, self.weight_mean_female)\n",
    "        f_f = self.y_x(data['FootSize'][0], self.footsize_var_female, self.footsize_mean_female)\n",
    "        male=self.prob_males*h_m*w_m*f_m;\n",
    "        female=self.prob_females*h_f*w_f*f_f;\n",
    "        return [male, female]"
   ]
  },
  {
   "cell_type": "code",
   "execution_count": 23,
   "metadata": {},
   "outputs": [
    {
     "name": "stdout",
     "output_type": "stream",
     "text": [
      "Female: 6.197071843878078e-09 Male: 0.0005377909183630018\n"
     ]
    }
   ],
   "source": [
    "def main():\n",
    "    td = pd.DataFrame();\n",
    "    td['Gender'] = ['Male','Male','Male','Male','Female','Female','Female','Female']\n",
    "    td['Height'] = [6,5.92,5.58,5.92,5,5.5,5.42,5.75]\n",
    "    td['Weight'] = [180,190,170,165,100,150,130,150]\n",
    "    td['FootSize'] = [12,11,12,10,6,8,7,9]\n",
    "    nb = naive_bayes(td)\n",
    "\n",
    "    person = pd.DataFrame()\n",
    "    person['Height'] = [6]\n",
    "    person['Weight'] = [130]\n",
    "    person['FootSize'] = [8]\n",
    "    \n",
    "    op=nb.predict(person)\n",
    "    print(\"Female: {0} Male: {1}\".format(op[0], op[1]))\n",
    "    \n",
    "if __name__ == \"__main__\":\n",
    "    main()"
   ]
  },
  {
   "cell_type": "code",
   "execution_count": null,
   "metadata": {},
   "outputs": [],
   "source": []
  },
  {
   "cell_type": "code",
   "execution_count": null,
   "metadata": {},
   "outputs": [],
   "source": []
  }
 ],
 "metadata": {
  "kernelspec": {
   "display_name": "Python 3",
   "language": "python",
   "name": "python3"
  },
  "language_info": {
   "codemirror_mode": {
    "name": "ipython",
    "version": 3
   },
   "file_extension": ".py",
   "mimetype": "text/x-python",
   "name": "python",
   "nbconvert_exporter": "python",
   "pygments_lexer": "ipython3",
   "version": "3.7.3"
  }
 },
 "nbformat": 4,
 "nbformat_minor": 2
}
