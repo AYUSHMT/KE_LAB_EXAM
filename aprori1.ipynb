{
 "cells": [
  {
   "cell_type": "code",
   "execution_count": 15,
   "metadata": {},
   "outputs": [],
   "source": [
    "import collections"
   ]
  },
  {
   "cell_type": "code",
   "execution_count": 118,
   "metadata": {},
   "outputs": [],
   "source": [
    "class aprori:\n",
    "    def __init__ (self, filename, min_support = 3):\n",
    "        self.min_support=min_support\n",
    "        lines = open('./data/{}.txt'.format(filename))\n",
    "        self.It1 = {}\n",
    "        self.filename=filename\n",
    "        for line in lines:\n",
    "            items = line.split()\n",
    "            for item in items:\n",
    "                if item in self.It1:\n",
    "                    self.It1[item]+=1\n",
    "                else:\n",
    "                    self.It1[item]=1\n",
    "        lines.close()\n",
    "    \n",
    "    def eliminate(self, itemset):\n",
    "        L = []\n",
    "        for item in itemset:\n",
    "            if itemset[item] >= self.min_support:\n",
    "                L.append(item)\n",
    "        return sorted(L)\n",
    "    \n",
    "    def count(self, itemset):\n",
    "        L = {}\n",
    "        lines = open('./data/{0}.txt'.format(self.filename))\n",
    "        for line in lines:\n",
    "            chars = line.split()\n",
    "            for item in itemset:\n",
    "                if item not in L:\n",
    "                    L[item]=0\n",
    "                isTrue = True\n",
    "                for char in item:\n",
    "                    if char not in chars:\n",
    "                        isTrue=False\n",
    "                        break\n",
    "                if isTrue:\n",
    "                    L[item]+=1\n",
    "        return L\n",
    "    \n",
    "    def generate(self, itemset):\n",
    "        L =[]\n",
    "        for i in range(0,len(itemset)):\n",
    "            element = str(itemset[i])\n",
    "            for j in range(i+1,len(itemset)):\n",
    "                element1 = str(itemset[j])\n",
    "                if element[0:(len(element)-1)] == element1[0:(len(element)-1)]:\n",
    "                    unionset = element[0:(len(element)-1)]+element[len(element)-1]+element1[len(element)-1]\n",
    "                    unionset = ''.join(sorted(unionset))\n",
    "                    L.append(unionset)\n",
    "        return L\n",
    "    \n",
    "    def repeat(self):\n",
    "        L = self.It1\n",
    "        C1 = collections.OrderedDict(L)\n",
    "        L=self.eliminate(C1)\n",
    "        k=1\n",
    "        while(L!=[]):\n",
    "            C = self.count(L)\n",
    "            S = self.eliminate(C)\n",
    "            print('=====================================')\n",
    "            print('{} Frequency Set'.format(k))\n",
    "            print(S)\n",
    "            print('=====================================')\n",
    "            L = self.generate(S)\n",
    "            k+=1\n",
    "            \n"
   ]
  },
  {
   "cell_type": "code",
   "execution_count": 119,
   "metadata": {},
   "outputs": [
    {
     "name": "stdout",
     "output_type": "stream",
     "text": [
      "=====================================\n",
      "1 Frequency Set\n",
      "['a', 'b', 'c', 'f', 'm', 'p']\n",
      "=====================================\n",
      "=====================================\n",
      "2 Frequency Set\n",
      "['ac', 'af', 'am', 'cf', 'cm', 'cp', 'fm']\n",
      "=====================================\n",
      "=====================================\n",
      "3 Frequency Set\n",
      "['acf', 'acm', 'afm', 'cfm']\n",
      "=====================================\n",
      "=====================================\n",
      "4 Frequency Set\n",
      "['acfm']\n",
      "=====================================\n"
     ]
    }
   ],
   "source": [
    "ap = aprori(\"example\")\n",
    "ap.repeat()"
   ]
  },
  {
   "cell_type": "code",
   "execution_count": null,
   "metadata": {},
   "outputs": [],
   "source": []
  }
 ],
 "metadata": {
  "kernelspec": {
   "display_name": "Python 3",
   "language": "python",
   "name": "python3"
  },
  "language_info": {
   "codemirror_mode": {
    "name": "ipython",
    "version": 3
   },
   "file_extension": ".py",
   "mimetype": "text/x-python",
   "name": "python",
   "nbconvert_exporter": "python",
   "pygments_lexer": "ipython3",
   "version": "3.7.3"
  }
 },
 "nbformat": 4,
 "nbformat_minor": 2
}
